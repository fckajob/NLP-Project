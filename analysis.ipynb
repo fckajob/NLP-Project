{
 "cells": [
  {
   "cell_type": "code",
   "execution_count": 2,
   "metadata": {},
   "outputs": [],
   "source": [
    "import pandas as pd\n",
    "import numpy as np"
   ]
  },
  {
   "cell_type": "code",
   "execution_count": null,
   "metadata": {},
   "outputs": [],
   "source": [
    "\n",
    "missing_value = [\"N/a\", \"na\", np.nan, np.NAN, np.NaN, \"null\"]\n",
    "df = pd.read_csv('./data/amazon_reviews_us_Electronics_v1_00.tsv', sep='\\t', error_bad_lines=False, na_values=missing_value)\n",
    "df.to_csv('./data/dataset_raw.csv', index=False)"
   ]
  },
  {
   "cell_type": "code",
   "execution_count": 4,
   "metadata": {},
   "outputs": [
    {
     "name": "stderr",
     "output_type": "stream",
     "text": [
      "/tmp/ipykernel_3357/3092129323.py:2: FutureWarning: The error_bad_lines argument has been deprecated and will be removed in a future version. Use on_bad_lines in the future.\n",
      "\n",
      "\n",
      "  df = pd.read_csv('./data/amazon_reviews_us_Electronics_v1_00.tsv', sep='\\t', error_bad_lines=False, na_values=missing_value)\n",
      "Skipping line 9076: expected 15 fields, saw 22\n",
      "Skipping line 19256: expected 15 fields, saw 22\n",
      "Skipping line 24313: expected 15 fields, saw 22\n",
      "Skipping line 47211: expected 15 fields, saw 22\n",
      "Skipping line 54295: expected 15 fields, saw 22\n",
      "Skipping line 56641: expected 15 fields, saw 22\n",
      "Skipping line 63067: expected 15 fields, saw 22\n",
      "\n",
      "Skipping line 93796: expected 15 fields, saw 22\n",
      "\n",
      "Skipping line 132806: expected 15 fields, saw 22\n",
      "Skipping line 164631: expected 15 fields, saw 22\n",
      "Skipping line 167019: expected 15 fields, saw 22\n",
      "Skipping line 167212: expected 15 fields, saw 22\n",
      "\n",
      "Skipping line 198103: expected 15 fields, saw 22\n",
      "Skipping line 199191: expected 15 fields, saw 22\n",
      "Skipping line 202841: expected 15 fields, saw 22\n",
      "Skipping line 218228: expected 15 fields, saw 22\n",
      "Skipping line 235900: expected 15 fields, saw 22\n",
      "\n",
      "Skipping line 277761: expected 15 fields, saw 22\n",
      "Skipping line 304582: expected 15 fields, saw 22\n",
      "Skipping line 312029: expected 15 fields, saw 22\n",
      "\n",
      "Skipping line 343692: expected 15 fields, saw 22\n",
      "Skipping line 352291: expected 15 fields, saw 22\n",
      "Skipping line 363414: expected 15 fields, saw 22\n",
      "Skipping line 378087: expected 15 fields, saw 22\n",
      "Skipping line 378720: expected 15 fields, saw 22\n",
      "Skipping line 378760: expected 15 fields, saw 22\n",
      "Skipping line 379336: expected 15 fields, saw 22\n",
      "\n",
      "Skipping line 402682: expected 15 fields, saw 22\n",
      "\n",
      "Skipping line 466560: expected 15 fields, saw 22\n",
      "Skipping line 486823: expected 15 fields, saw 22\n",
      "Skipping line 489036: expected 15 fields, saw 22\n",
      "Skipping line 496148: expected 15 fields, saw 22\n",
      "Skipping line 522330: expected 15 fields, saw 22\n",
      "\n",
      "Skipping line 552961: expected 15 fields, saw 22\n",
      "Skipping line 577388: expected 15 fields, saw 22\n",
      "Skipping line 582182: expected 15 fields, saw 22\n",
      "\n",
      "Skipping line 590653: expected 15 fields, saw 22\n",
      "Skipping line 608846: expected 15 fields, saw 22\n",
      "Skipping line 615442: expected 15 fields, saw 22\n",
      "Skipping line 645607: expected 15 fields, saw 22\n",
      "Skipping line 654323: expected 15 fields, saw 22\n",
      "\n",
      "Skipping line 714935: expected 15 fields, saw 22\n",
      "\n",
      "Skipping line 749608: expected 15 fields, saw 22\n",
      "Skipping line 753868: expected 15 fields, saw 22\n",
      "Skipping line 762504: expected 15 fields, saw 22\n",
      "Skipping line 771706: expected 15 fields, saw 22\n",
      "Skipping line 773376: expected 15 fields, saw 22\n",
      "\n",
      "Skipping line 792407: expected 15 fields, saw 22\n",
      "Skipping line 793933: expected 15 fields, saw 22\n",
      "Skipping line 813269: expected 15 fields, saw 22\n",
      "Skipping line 835491: expected 15 fields, saw 22\n",
      "Skipping line 841176: expected 15 fields, saw 22\n",
      "Skipping line 844604: expected 15 fields, saw 22\n",
      "\n",
      "Skipping line 857952: expected 15 fields, saw 22\n",
      "Skipping line 859568: expected 15 fields, saw 22\n",
      "Skipping line 860789: expected 15 fields, saw 22\n",
      "Skipping line 863093: expected 15 fields, saw 22\n",
      "Skipping line 881608: expected 15 fields, saw 22\n",
      "Skipping line 891157: expected 15 fields, saw 22\n",
      "Skipping line 893799: expected 15 fields, saw 22\n",
      "Skipping line 906438: expected 15 fields, saw 22\n",
      "Skipping line 914856: expected 15 fields, saw 22\n",
      "\n",
      "Skipping line 940736: expected 15 fields, saw 22\n",
      "Skipping line 965818: expected 15 fields, saw 22\n",
      "\n",
      "Skipping line 993840: expected 15 fields, saw 22\n",
      "Skipping line 1019036: expected 15 fields, saw 22\n",
      "Skipping line 1019205: expected 15 fields, saw 22\n",
      "\n",
      "Skipping line 1058122: expected 15 fields, saw 22\n",
      "\n",
      "Skipping line 1144887: expected 15 fields, saw 22\n",
      "Skipping line 1147255: expected 15 fields, saw 22\n",
      "Skipping line 1164497: expected 15 fields, saw 22\n",
      "Skipping line 1166930: expected 15 fields, saw 22\n",
      "\n",
      "Skipping line 1218319: expected 15 fields, saw 22\n",
      "Skipping line 1232868: expected 15 fields, saw 22\n",
      "\n",
      "Skipping line 1307335: expected 15 fields, saw 22\n",
      "\n",
      "Skipping line 1621422: expected 15 fields, saw 22\n",
      "\n",
      "Skipping line 1857720: expected 15 fields, saw 22\n",
      "\n",
      "Skipping line 1935753: expected 15 fields, saw 22\n",
      "\n",
      "Skipping line 1988449: expected 15 fields, saw 22\n",
      "\n"
     ]
    }
   ],
   "source": [
    "\n",
    "missing_value = [\"N/a\", \"na\", np.nan, np.NAN, np.NaN, \"null\"]\n",
    "df = pd.read_csv('./data/amazon_reviews_us_Electronics_v1_00.tsv', sep='\\t', error_bad_lines=False, na_values=missing_value)\n",
    "df = df.dropna()\n",
    "df.to_csv('./data/dataset_raw_2.csv', index=False)"
   ]
  },
  {
   "cell_type": "code",
   "execution_count": 16,
   "metadata": {},
   "outputs": [
    {
     "data": {
      "text/plain": [
       "895150"
      ]
     },
     "execution_count": 16,
     "metadata": {},
     "output_type": "execute_result"
    }
   ],
   "source": [
    "train = pd.read_csv('./data/train_balanced.csv')\n",
    "test = pd.read_csv('./data/test_balanced.csv')\n",
    "balanced = pd.read_csv('./data/balanced_full.csv')\n",
    "len(balanced)\n"
   ]
  },
  {
   "cell_type": "code",
   "execution_count": 13,
   "metadata": {},
   "outputs": [
    {
     "data": {
      "text/html": [
       "<div>\n",
       "<style scoped>\n",
       "    .dataframe tbody tr th:only-of-type {\n",
       "        vertical-align: middle;\n",
       "    }\n",
       "\n",
       "    .dataframe tbody tr th {\n",
       "        vertical-align: top;\n",
       "    }\n",
       "\n",
       "    .dataframe thead th {\n",
       "        text-align: right;\n",
       "    }\n",
       "</style>\n",
       "<table border=\"1\" class=\"dataframe\">\n",
       "  <thead>\n",
       "    <tr style=\"text-align: right;\">\n",
       "      <th></th>\n",
       "      <th>review_body</th>\n",
       "    </tr>\n",
       "    <tr>\n",
       "      <th>star_rating</th>\n",
       "      <th></th>\n",
       "    </tr>\n",
       "  </thead>\n",
       "  <tbody>\n",
       "    <tr>\n",
       "      <th>1</th>\n",
       "      <td>6493</td>\n",
       "    </tr>\n",
       "    <tr>\n",
       "      <th>2</th>\n",
       "      <td>3636</td>\n",
       "    </tr>\n",
       "    <tr>\n",
       "      <th>3</th>\n",
       "      <td>4808</td>\n",
       "    </tr>\n",
       "    <tr>\n",
       "      <th>4</th>\n",
       "      <td>13229</td>\n",
       "    </tr>\n",
       "    <tr>\n",
       "      <th>5</th>\n",
       "      <td>27834</td>\n",
       "    </tr>\n",
       "  </tbody>\n",
       "</table>\n",
       "</div>"
      ],
      "text/plain": [
       "             review_body\n",
       "star_rating             \n",
       "1                   6493\n",
       "2                   3636\n",
       "3                   4808\n",
       "4                  13229\n",
       "5                  27834"
      ]
     },
     "execution_count": 13,
     "metadata": {},
     "output_type": "execute_result"
    }
   ],
   "source": [
    "train = pd.read_csv('./data/train.csv')\n",
    "train.groupby('star_rating').count()"
   ]
  },
  {
   "cell_type": "code",
   "execution_count": 14,
   "metadata": {},
   "outputs": [
    {
     "data": {
      "text/plain": [
       "56000"
      ]
     },
     "execution_count": 14,
     "metadata": {},
     "output_type": "execute_result"
    }
   ],
   "source": [
    "len(train)"
   ]
  },
  {
   "cell_type": "code",
   "execution_count": null,
   "metadata": {},
   "outputs": [],
   "source": []
  }
 ],
 "metadata": {
  "kernelspec": {
   "display_name": "venv",
   "language": "python",
   "name": "python3"
  },
  "language_info": {
   "codemirror_mode": {
    "name": "ipython",
    "version": 3
   },
   "file_extension": ".py",
   "mimetype": "text/x-python",
   "name": "python",
   "nbconvert_exporter": "python",
   "pygments_lexer": "ipython3",
   "version": "3.10.9 (main, Dec 19 2022, 17:35:49) [GCC 12.2.0]"
  },
  "orig_nbformat": 4,
  "vscode": {
   "interpreter": {
    "hash": "88a9e1bacd5f499f9d74ccbe2f4cc02845e75066f5bccf9afd0af57a12e559ad"
   }
  }
 },
 "nbformat": 4,
 "nbformat_minor": 2
}
